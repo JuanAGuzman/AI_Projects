{
  "cells": [
    {
      "cell_type": "markdown",
      "metadata": {
        "id": "3KmFfakHzDLp"
      },
      "source": [
        "# Microproyecto: Alcanzando los objetivos de desarrollo sostenible. Un aporte desde el machine learning"
      ]
    },
    {
      "cell_type": "markdown",
      "source": [
        "Este proyecto tiene como objetivo desarrollar una solución, basada en técnicas de procesamiento de lenguaje natural y machine learning, que facilite la interpretación y análisis de información textual para la identificación de relaciones semánticas con los Objetivos de Desarrollo Sostenibles.\n",
        "\n",
        "Para cumplir con el objetivo fue necesario:\n",
        "\n",
        "\n",
        "*   Preparar los datos, eliminar signos de puntuaciòn, eliminar stop words, convertir todo el texto a minúsculas\n",
        "*   Desarrollar un modelo de clasificación para relacionar un texto con un ODS\n",
        "*   Evaluar el modelo"
      ],
      "metadata": {
        "id": "pqVWlyXaSVJO"
      }
    },
    {
      "cell_type": "markdown",
      "metadata": {
        "id": "C7z0N2xczDLw"
      },
      "source": [
        "#### Paquetes"
      ]
    },
    {
      "cell_type": "markdown",
      "source": [
        "Previo a todo desarrollo de código, es necesario importar los módulos de python a usar. Para cumplir los objetivos se hara uso de una amplia gama de paquetes, en la siguiente celda de código se importan etsos paquetes."
      ],
      "metadata": {
        "id": "53Y4xvl4SX_f"
      }
    },
    {
      "cell_type": "code",
      "execution_count": null,
      "metadata": {
        "id": "Up5HkPu9TUQD",
        "colab": {
          "base_uri": "https://localhost:8080/"
        },
        "outputId": "554a19a3-e725-48a1-f988-9f9dc56c1bc3"
      },
      "outputs": [
        {
          "output_type": "stream",
          "name": "stderr",
          "text": [
            "[nltk_data] Downloading package stopwords to /root/nltk_data...\n",
            "[nltk_data]   Package stopwords is already up-to-date!\n"
          ]
        },
        {
          "output_type": "execute_result",
          "data": {
            "text/plain": [
              "True"
            ]
          },
          "metadata": {},
          "execution_count": 104
        }
      ],
      "source": [
        "import pandas as pd\n",
        "from sklearn.model_selection import train_test_split\n",
        "\n",
        "from nltk import download\n",
        "download(\"stopwords\")"
      ]
    },
    {
      "cell_type": "markdown",
      "metadata": {
        "id": "3tYzG1IEzDL0"
      },
      "source": [
        "## Preprocesamiento"
      ]
    },
    {
      "cell_type": "markdown",
      "source": [
        "Inicialmente se carga el csv con los textos y su ODS correspondiente:"
      ],
      "metadata": {
        "id": "8ZLDm-5MScGF"
      }
    },
    {
      "cell_type": "code",
      "execution_count": null,
      "metadata": {
        "id": "Hr2CIunOTnkp",
        "colab": {
          "base_uri": "https://localhost:8080/"
        },
        "outputId": "2c3e82e7-d11c-4332-bcba-dd1bb8e607ea"
      },
      "outputs": [
        {
          "output_type": "execute_result",
          "data": {
            "text/plain": [
              "(9656, 2)"
            ]
          },
          "metadata": {},
          "execution_count": 150
        }
      ],
      "source": [
        "raw_data = pd.read_csv(\"Train_textosODS.csv\", sep=\";\", encoding='latin-1')\n",
        "raw_data.shape"
      ]
    },
    {
      "cell_type": "markdown",
      "source": [
        "Se eliminan datos nulos y duplicados:"
      ],
      "metadata": {
        "id": "NL2rpuuTSj41"
      }
    },
    {
      "cell_type": "code",
      "execution_count": null,
      "metadata": {
        "colab": {
          "base_uri": "https://localhost:8080/"
        },
        "id": "C9kQTEHqT8z3",
        "outputId": "f2819235-5169-4316-c8c5-1383bcfd72e7"
      },
      "outputs": [
        {
          "output_type": "execute_result",
          "data": {
            "text/plain": [
              "(9656, 2)"
            ]
          },
          "metadata": {},
          "execution_count": 106
        }
      ],
      "source": [
        "data = raw_data.copy()\n",
        "data.dropna(inplace=True)\n",
        "data.drop_duplicates(inplace=True)\n",
        "data.shape"
      ]
    },
    {
      "cell_type": "markdown",
      "source": [
        "Notamos que no habian datos nulos ni duplicados, procedemos a separar las caracterizticas y su respectiva etiqueta. Ademas separamos los datos de entrenamiento y de test para validacion:"
      ],
      "metadata": {
        "id": "r6n8Z5xGSuY4"
      }
    },
    {
      "cell_type": "code",
      "source": [
        "X, y = data[\"textos\"], data[\"ODS\"]\n",
        "X_train, X_test, y_train, y_test = train_test_split(X, y, test_size=0.2, random_state=42)"
      ],
      "metadata": {
        "id": "DtA7IbN_8leo"
      },
      "execution_count": null,
      "outputs": []
    },
    {
      "cell_type": "markdown",
      "source": [
        "Finalmente definimos la clase TextProcessor para ejecutar el preprocesado de los datos, en este caso nos permitimos tokenizar las palabras con un word_tokenize simple o uno personalizado a travex de RegexpTokenizer. Ademas, la clase permite la eliminacion de palabras stop y hacer stem."
      ],
      "metadata": {
        "id": "IbYRKmkrTDdy"
      }
    },
    {
      "cell_type": "code",
      "execution_count": null,
      "metadata": {
        "id": "sUoZdISmzDL3"
      },
      "outputs": [],
      "source": [
        "class TextProcessor:\n",
        "\n",
        "    nltk = __import__(\"nltk\")\n",
        "    np = __import__(\"numpy\")\n",
        "\n",
        "    def __init__(self, process):\n",
        "\n",
        "        Regex = self.nltk.RegexpTokenizer(r'\\w+')\n",
        "        simple = self.nltk.tokenize.word_tokenize\n",
        "        stop = self.nltk.corpus.stopwords.words(\"spanish\")\n",
        "        stemmer = self.nltk.stem.PorterStemmer()\n",
        "\n",
        "        self.process = process\n",
        "        self.transform = {\"simple\": lambda x: simple(x),\n",
        "                          \"personalized\": lambda x: Regex.tokenize(x),\n",
        "                          \"stop\": lambda x: [token for token in x if token not in stop],\n",
        "                          \"stemme\": lambda x: [stemmer.stem(token) for token in x]}\n",
        "\n",
        "    def get_mean_vector(self, words):\n",
        "        model = self.w2v\n",
        "        mean = self.np.mean([model.wv[word] for word in words if word in self.w2v.wv], axis=0)\n",
        "        return mean if mean is not None else self.np.zeros(100)\n",
        "\n",
        "    def textProcess(self, text):\n",
        "        text = text.lower()\n",
        "        for step in self.process:\n",
        "            text = self.transform[step](text)\n",
        "        return ' '.join(map(str, text))"
      ]
    },
    {
      "cell_type": "markdown",
      "metadata": {
        "id": "o_eag3i8zDL6"
      },
      "source": [
        "## Clasificador"
      ]
    },
    {
      "cell_type": "markdown",
      "source": [
        "Se define la clase Classifier que crea un pipeline con las instrucciones indicadas, permitiendo la seleccion del vectorizador (este vectorizador implementa el preprocesado previamente definido) y el clasificador a usar, ademas de generar un score (se usan metricas de accuracy y f1 debido a que es un problema de clasificacion) del modelo."
      ],
      "metadata": {
        "id": "ZfpxySQLTj28"
      }
    },
    {
      "cell_type": "code",
      "execution_count": null,
      "metadata": {
        "id": "L7q-xaKEzDL4"
      },
      "outputs": [],
      "source": [
        "class Classifier:\n",
        "    sk = __import__(\"sklearn\")\n",
        "\n",
        "    def __init__(self, textProcessor: TextProcessor, process, params):\n",
        "        self.processor = textProcessor(process[\"steps\"])\n",
        "        self.pipeline = self.get_pipeline(process, params)\n",
        "\n",
        "    def get_clf(self, model, clf):\n",
        "        model = getattr(self.sk, model)\n",
        "        classifier = getattr(model, clf)\n",
        "        return classifier\n",
        "\n",
        "    def get_pipeline(self, process, params):\n",
        "\n",
        "        vectorizer = getattr(self.sk.feature_extraction.text, process[\"vectorizer\"])\n",
        "        dim_red = self.sk.decomposition.TruncatedSVD(params[\"dimred\"])\n",
        "        clf = self.get_clf(**process[\"clf\"])(**params[\"clf\"])\n",
        "\n",
        "        steps = ((\"vectorizer\", vectorizer(preprocessor = self.processor.textProcess)),\n",
        "                 (\"dimred\", dim_red),\n",
        "                 (\"clf\", clf))\n",
        "\n",
        "        pipeline = self.sk.pipeline.Pipeline(steps)\n",
        "        return pipeline\n",
        "\n",
        "    def fit(self, X, y = None):\n",
        "        self.pipeline.fit(X, y)\n",
        "\n",
        "    def predict(self, X):\n",
        "        return self.pipeline.predict(X)\n",
        "\n",
        "    def classification_report(self, X, y):\n",
        "        y_pred = self.predict(X)\n",
        "        print(self.sk.metrics.classification_report(y, y_pred))\n",
        "\n",
        "    def accuracy_score(self, X, y):\n",
        "        y_pred = self.predict(X)\n",
        "        return self.sk.metrics.accuracy_score(y, y_pred)\n",
        "\n",
        "    def f1_score(self, X, y):\n",
        "        y_pred = self.predict(X)\n",
        "        return self.sk.metrics.f1_score(y, y_pred, average='macro')"
      ]
    },
    {
      "cell_type": "markdown",
      "source": [
        "Probamos el algoritmo para algunos vectorizadores y modelos:"
      ],
      "metadata": {
        "id": "3cnoGL4hUC53"
      }
    },
    {
      "cell_type": "code",
      "execution_count": null,
      "metadata": {
        "colab": {
          "base_uri": "https://localhost:8080/"
        },
        "id": "7U33Ot-azDL5",
        "outputId": "8380a82d-0ce2-4d16-85d2-4a4c083476d2"
      },
      "outputs": [
        {
          "output_type": "stream",
          "name": "stdout",
          "text": [
            "              precision    recall  f1-score   support\n",
            "\n",
            "           1       0.79      0.79      0.79        90\n",
            "           2       0.64      0.66      0.65        71\n",
            "           3       0.84      0.87      0.85       178\n",
            "           4       0.91      0.96      0.93       200\n",
            "           5       0.95      0.88      0.92       232\n",
            "           6       0.92      0.90      0.91       135\n",
            "           7       0.85      0.84      0.84       164\n",
            "           8       0.56      0.60      0.58        86\n",
            "           9       0.55      0.67      0.61        55\n",
            "          10       0.56      0.48      0.52        60\n",
            "          11       0.83      0.72      0.77       143\n",
            "          12       0.70      0.78      0.74        64\n",
            "          13       0.82      0.77      0.80       102\n",
            "          14       0.75      0.75      0.75        64\n",
            "          15       0.83      0.77      0.79        81\n",
            "          16       0.92      0.98      0.95       207\n",
            "\n",
            "    accuracy                           0.82      1932\n",
            "   macro avg       0.78      0.78      0.78      1932\n",
            "weighted avg       0.83      0.82      0.82      1932\n",
            "\n"
          ]
        }
      ],
      "source": [
        "process = {\"steps\": (\"personalized\", \"stop\", \"stemme\"),\n",
        "           \"vectorizer\": \"CountVectorizer\",\n",
        "           \"dimred\": \"TruncatedSVD\",\n",
        "           \"clf\":{\"model\": \"linear_model\",\n",
        "                  \"clf\": \"LogisticRegression\"}}\n",
        "\n",
        "params = {\"dimred\": 100,\n",
        "          \"clf\": {\"penalty\": \"l2\",\n",
        "                 \"C\": 0.1}}\n",
        "\n",
        "clf = Classifier(TextProcessor, process, params)\n",
        "clf.fit(X_train, y_train)\n",
        "clf.classification_report(X_test, y_test)"
      ]
    },
    {
      "cell_type": "code",
      "source": [
        "process = {\"steps\": (\"personalized\", \"stop\", \"stemme\"),\n",
        "           \"vectorizer\": \"TfidfVectorizer\",\n",
        "           \"dimred\": \"TruncatedSVD\",\n",
        "           \"clf\":{\"model\": \"linear_model\",\n",
        "                  \"clf\": \"LogisticRegression\"}}\n",
        "\n",
        "params = {\"dimred\": 100,\n",
        "          \"clf\": {\"penalty\": \"l2\",\n",
        "                 \"C\": 0.1}}\n",
        "\n",
        "clf = Classifier(TextProcessor, process, params)\n",
        "clf.fit(X_train, y_train)\n",
        "clf.classification_report(X_test, y_test)"
      ],
      "metadata": {
        "colab": {
          "base_uri": "https://localhost:8080/"
        },
        "id": "Xxv1bX2gHKOt",
        "outputId": "82c04d59-abd5-4855-e351-33732dec4a50"
      },
      "execution_count": null,
      "outputs": [
        {
          "output_type": "stream",
          "name": "stdout",
          "text": [
            "              precision    recall  f1-score   support\n",
            "\n",
            "           1       0.85      0.69      0.76        90\n",
            "           2       0.86      0.25      0.39        71\n",
            "           3       0.58      0.88      0.70       178\n",
            "           4       0.65      0.99      0.78       200\n",
            "           5       0.83      0.92      0.88       232\n",
            "           6       0.88      0.91      0.90       135\n",
            "           7       0.69      0.94      0.80       164\n",
            "           8       0.89      0.20      0.32        86\n",
            "           9       0.00      0.00      0.00        55\n",
            "          10       0.73      0.13      0.23        60\n",
            "          11       0.93      0.54      0.68       143\n",
            "          12       1.00      0.12      0.22        64\n",
            "          13       0.91      0.62      0.74       102\n",
            "          14       1.00      0.33      0.49        64\n",
            "          15       1.00      0.16      0.28        81\n",
            "          16       0.49      0.99      0.66       207\n",
            "\n",
            "    accuracy                           0.69      1932\n",
            "   macro avg       0.77      0.54      0.55      1932\n",
            "weighted avg       0.75      0.69      0.65      1932\n",
            "\n"
          ]
        },
        {
          "output_type": "stream",
          "name": "stderr",
          "text": [
            "/usr/local/lib/python3.10/dist-packages/sklearn/metrics/_classification.py:1531: UndefinedMetricWarning: Precision is ill-defined and being set to 0.0 in labels with no predicted samples. Use `zero_division` parameter to control this behavior.\n",
            "  _warn_prf(average, modifier, f\"{metric.capitalize()} is\", len(result))\n",
            "/usr/local/lib/python3.10/dist-packages/sklearn/metrics/_classification.py:1531: UndefinedMetricWarning: Precision is ill-defined and being set to 0.0 in labels with no predicted samples. Use `zero_division` parameter to control this behavior.\n",
            "  _warn_prf(average, modifier, f\"{metric.capitalize()} is\", len(result))\n",
            "/usr/local/lib/python3.10/dist-packages/sklearn/metrics/_classification.py:1531: UndefinedMetricWarning: Precision is ill-defined and being set to 0.0 in labels with no predicted samples. Use `zero_division` parameter to control this behavior.\n",
            "  _warn_prf(average, modifier, f\"{metric.capitalize()} is\", len(result))\n"
          ]
        }
      ]
    },
    {
      "cell_type": "code",
      "source": [
        "process = {\"steps\": (\"personalized\", \"stop\", \"stemme\"),\n",
        "           \"vectorizer\": \"CountVectorizer\",\n",
        "           \"dimred\": \"TruncatedSVD\",\n",
        "           \"clf\":{\"model\": \"svm\",\n",
        "                  \"clf\": \"LinearSVC\"}}\n",
        "\n",
        "params = {\"dimred\": 100,\n",
        "          \"clf\": {\"penalty\": \"l2\",\n",
        "                 \"C\": 0.1}}\n",
        "\n",
        "clf = Classifier(TextProcessor, process, params)\n",
        "clf.fit(X_train, y_train)\n",
        "clf.classification_report(X_test, y_test)"
      ],
      "metadata": {
        "colab": {
          "base_uri": "https://localhost:8080/"
        },
        "id": "ePTVyHwrHa2V",
        "outputId": "05a6102b-4718-4606-de14-e6f2300f5ddf"
      },
      "execution_count": null,
      "outputs": [
        {
          "output_type": "stream",
          "name": "stdout",
          "text": [
            "              precision    recall  f1-score   support\n",
            "\n",
            "           1       0.78      0.80      0.79        90\n",
            "           2       0.65      0.72      0.68        71\n",
            "           3       0.83      0.87      0.85       178\n",
            "           4       0.89      0.97      0.93       200\n",
            "           5       0.94      0.89      0.91       232\n",
            "           6       0.90      0.89      0.90       135\n",
            "           7       0.86      0.81      0.84       164\n",
            "           8       0.62      0.55      0.58        86\n",
            "           9       0.56      0.64      0.59        55\n",
            "          10       0.57      0.50      0.53        60\n",
            "          11       0.82      0.72      0.77       143\n",
            "          12       0.66      0.72      0.69        64\n",
            "          13       0.78      0.79      0.79       102\n",
            "          14       0.85      0.72      0.78        64\n",
            "          15       0.82      0.80      0.81        81\n",
            "          16       0.91      0.99      0.95       207\n",
            "\n",
            "    accuracy                           0.82      1932\n",
            "   macro avg       0.78      0.77      0.77      1932\n",
            "weighted avg       0.82      0.82      0.82      1932\n",
            "\n"
          ]
        }
      ]
    },
    {
      "cell_type": "markdown",
      "source": [
        "La flexibilidad del clasificador permite trabajar tambien con modelos no supervisados como clustering, en este caso notamos que una clasificacion a traves de k-means no presenta un buen desempeño:"
      ],
      "metadata": {
        "id": "1JdaWXqrUJ8n"
      }
    },
    {
      "cell_type": "code",
      "source": [
        "process = {\"steps\": (\"personalized\", \"stop\", \"stemme\"),\n",
        "           \"vectorizer\": \"CountVectorizer\",\n",
        "           \"dimred\": \"TruncatedSVD\",\n",
        "           \"clf\":{\"model\": \"cluster\",\n",
        "                  \"clf\": \"KMeans\"}}\n",
        "\n",
        "params = {\"dimred\": 100,\n",
        "          \"clf\": {\"n_clusters\": 16}}\n",
        "\n",
        "clf = Classifier(TextProcessor, process, params)\n",
        "clf.fit(X_train)\n",
        "clf.classification_report(X_test, y_test)"
      ],
      "metadata": {
        "colab": {
          "base_uri": "https://localhost:8080/"
        },
        "id": "8F3SPIYRO65-",
        "outputId": "b20296e5-d9e0-4b7f-f914-bdbaa9321ea8"
      },
      "execution_count": null,
      "outputs": [
        {
          "output_type": "stream",
          "name": "stdout",
          "text": [
            "              precision    recall  f1-score   support\n",
            "\n",
            "           0       0.00      0.00      0.00         0\n",
            "           1       0.00      0.00      0.00        90\n",
            "           2       0.00      0.00      0.00        71\n",
            "           3       0.00      0.00      0.00       178\n",
            "           4       0.00      0.00      0.00       200\n",
            "           5       0.07      0.02      0.03       232\n",
            "           6       0.00      0.00      0.00       135\n",
            "           7       0.00      0.00      0.00       164\n",
            "           8       0.00      0.00      0.00        86\n",
            "           9       0.00      0.00      0.00        55\n",
            "          10       0.02      0.02      0.02        60\n",
            "          11       0.08      0.06      0.07       143\n",
            "          12       0.00      0.00      0.00        64\n",
            "          13       0.02      0.01      0.01       102\n",
            "          14       0.00      0.00      0.00        64\n",
            "          15       0.00      0.00      0.00        81\n",
            "          16       0.00      0.00      0.00       207\n",
            "\n",
            "    accuracy                           0.01      1932\n",
            "   macro avg       0.01      0.01      0.01      1932\n",
            "weighted avg       0.02      0.01      0.01      1932\n",
            "\n"
          ]
        },
        {
          "output_type": "stream",
          "name": "stderr",
          "text": [
            "/usr/local/lib/python3.10/dist-packages/sklearn/metrics/_classification.py:1531: UndefinedMetricWarning: Precision is ill-defined and being set to 0.0 in labels with no predicted samples. Use `zero_division` parameter to control this behavior.\n",
            "  _warn_prf(average, modifier, f\"{metric.capitalize()} is\", len(result))\n",
            "/usr/local/lib/python3.10/dist-packages/sklearn/metrics/_classification.py:1531: UndefinedMetricWarning: Recall is ill-defined and being set to 0.0 in labels with no true samples. Use `zero_division` parameter to control this behavior.\n",
            "  _warn_prf(average, modifier, f\"{metric.capitalize()} is\", len(result))\n",
            "/usr/local/lib/python3.10/dist-packages/sklearn/metrics/_classification.py:1531: UndefinedMetricWarning: Precision is ill-defined and being set to 0.0 in labels with no predicted samples. Use `zero_division` parameter to control this behavior.\n",
            "  _warn_prf(average, modifier, f\"{metric.capitalize()} is\", len(result))\n",
            "/usr/local/lib/python3.10/dist-packages/sklearn/metrics/_classification.py:1531: UndefinedMetricWarning: Recall is ill-defined and being set to 0.0 in labels with no true samples. Use `zero_division` parameter to control this behavior.\n",
            "  _warn_prf(average, modifier, f\"{metric.capitalize()} is\", len(result))\n",
            "/usr/local/lib/python3.10/dist-packages/sklearn/metrics/_classification.py:1531: UndefinedMetricWarning: Precision is ill-defined and being set to 0.0 in labels with no predicted samples. Use `zero_division` parameter to control this behavior.\n",
            "  _warn_prf(average, modifier, f\"{metric.capitalize()} is\", len(result))\n",
            "/usr/local/lib/python3.10/dist-packages/sklearn/metrics/_classification.py:1531: UndefinedMetricWarning: Recall is ill-defined and being set to 0.0 in labels with no true samples. Use `zero_division` parameter to control this behavior.\n",
            "  _warn_prf(average, modifier, f\"{metric.capitalize()} is\", len(result))\n"
          ]
        }
      ]
    },
    {
      "cell_type": "code",
      "source": [
        "clf.classification_report(X_test, y_test.values)"
      ],
      "metadata": {
        "colab": {
          "base_uri": "https://localhost:8080/"
        },
        "id": "6rWDeph8Py2m",
        "outputId": "ac4f935c-24d9-448c-b269-63141ddde0bd"
      },
      "execution_count": null,
      "outputs": [
        {
          "output_type": "stream",
          "name": "stdout",
          "text": [
            "              precision    recall  f1-score   support\n",
            "\n",
            "           0       0.00      0.00      0.00         0\n",
            "           1       0.00      0.00      0.00        90\n",
            "           2       0.00      0.00      0.00        71\n",
            "           3       0.00      0.00      0.00       178\n",
            "           4       0.00      0.00      0.00       200\n",
            "           5       0.07      0.02      0.03       232\n",
            "           6       0.00      0.00      0.00       135\n",
            "           7       0.00      0.00      0.00       164\n",
            "           8       0.00      0.00      0.00        86\n",
            "           9       0.00      0.00      0.00        55\n",
            "          10       0.02      0.02      0.02        60\n",
            "          11       0.08      0.06      0.07       143\n",
            "          12       0.00      0.00      0.00        64\n",
            "          13       0.02      0.01      0.01       102\n",
            "          14       0.00      0.00      0.00        64\n",
            "          15       0.00      0.00      0.00        81\n",
            "          16       0.00      0.00      0.00       207\n",
            "\n",
            "    accuracy                           0.01      1932\n",
            "   macro avg       0.01      0.01      0.01      1932\n",
            "weighted avg       0.02      0.01      0.01      1932\n",
            "\n"
          ]
        },
        {
          "output_type": "stream",
          "name": "stderr",
          "text": [
            "/usr/local/lib/python3.10/dist-packages/sklearn/metrics/_classification.py:1531: UndefinedMetricWarning: Precision is ill-defined and being set to 0.0 in labels with no predicted samples. Use `zero_division` parameter to control this behavior.\n",
            "  _warn_prf(average, modifier, f\"{metric.capitalize()} is\", len(result))\n",
            "/usr/local/lib/python3.10/dist-packages/sklearn/metrics/_classification.py:1531: UndefinedMetricWarning: Recall is ill-defined and being set to 0.0 in labels with no true samples. Use `zero_division` parameter to control this behavior.\n",
            "  _warn_prf(average, modifier, f\"{metric.capitalize()} is\", len(result))\n",
            "/usr/local/lib/python3.10/dist-packages/sklearn/metrics/_classification.py:1531: UndefinedMetricWarning: Precision is ill-defined and being set to 0.0 in labels with no predicted samples. Use `zero_division` parameter to control this behavior.\n",
            "  _warn_prf(average, modifier, f\"{metric.capitalize()} is\", len(result))\n",
            "/usr/local/lib/python3.10/dist-packages/sklearn/metrics/_classification.py:1531: UndefinedMetricWarning: Recall is ill-defined and being set to 0.0 in labels with no true samples. Use `zero_division` parameter to control this behavior.\n",
            "  _warn_prf(average, modifier, f\"{metric.capitalize()} is\", len(result))\n",
            "/usr/local/lib/python3.10/dist-packages/sklearn/metrics/_classification.py:1531: UndefinedMetricWarning: Precision is ill-defined and being set to 0.0 in labels with no predicted samples. Use `zero_division` parameter to control this behavior.\n",
            "  _warn_prf(average, modifier, f\"{metric.capitalize()} is\", len(result))\n",
            "/usr/local/lib/python3.10/dist-packages/sklearn/metrics/_classification.py:1531: UndefinedMetricWarning: Recall is ill-defined and being set to 0.0 in labels with no true samples. Use `zero_division` parameter to control this behavior.\n",
            "  _warn_prf(average, modifier, f\"{metric.capitalize()} is\", len(result))\n"
          ]
        }
      ]
    },
    {
      "cell_type": "markdown",
      "source": [
        "### Word2Vec"
      ],
      "metadata": {
        "id": "nwmOwwQxLxKR"
      }
    },
    {
      "cell_type": "markdown",
      "source": [
        "Como componente adicional podemos evaluar el desempeño usando un preprocesado con word2vec. Notamos que es inferior en el desempeño general:"
      ],
      "metadata": {
        "id": "70dKCFDVUi4n"
      }
    },
    {
      "cell_type": "code",
      "source": [
        "import numpy as np\n",
        "from gensim.models import Word2Vec\n",
        "from sklearn.preprocessing import LabelEncoder\n",
        "from sklearn.svm import LinearSVC\n",
        "from sklearn.metrics import classification_report\n",
        "\n",
        "# Preprocesamiento adicional para Word2Vec\n",
        "textos = raw_data['textos'].apply(lambda x: x.split())\n",
        "\n",
        "# Entrenamiento del modelo Word2Vec\n",
        "w2v_model = Word2Vec(textos, vector_size=100, window=5, min_count=1)\n",
        "\n",
        "# Obtener vectores promedio para cada texto\n",
        "def get_mean_vector(words, model):\n",
        "    return np.mean([model.wv[word] for word in words if word in model.wv], axis=0)\n",
        "\n",
        "X_w2v = textos.apply(lambda x: get_mean_vector(x, w2v_model))\n",
        "X_w2v = list(X_w2v)\n",
        "\n",
        "# Convertir a matriz numpy y manejar posibles NaNs\n",
        "X_w2v = np.array([vec if vec is not None else np.zeros(100) for vec in X_w2v])\n",
        "\n",
        "# Codificar etiquetas si es necesario\n",
        "le = LabelEncoder()\n",
        "y_encoded = le.fit_transform(y)\n",
        "\n",
        "# División y entrenamiento similares a los pasos anteriores\n",
        "X_train_w2v, X_test_w2v, y_train_w2v, y_test_w2v = train_test_split(X_w2v, y_encoded, test_size=0.2, random_state=42)\n",
        "\n",
        "# Entrenamiento del modelo\n",
        "modelo_w2v = LinearSVC(random_state=42)\n",
        "modelo_w2v.fit(X_train_w2v, y_train_w2v)\n",
        "\n",
        "# Evaluación del modelo\n",
        "y_pred_w2v = modelo_w2v.predict(X_test_w2v)\n",
        "print(\"\\nReporte de clasificación con Word2Vec:\")\n",
        "print(classification_report(y_test_w2v, y_pred_w2v))"
      ],
      "metadata": {
        "colab": {
          "base_uri": "https://localhost:8080/"
        },
        "id": "TWln0Us5LveN",
        "outputId": "758eecb4-b5e3-49e9-ad84-328924090cbc"
      },
      "execution_count": null,
      "outputs": [
        {
          "output_type": "stream",
          "name": "stdout",
          "text": [
            "\n",
            "Reporte de clasificación con Word2Vec:\n",
            "              precision    recall  f1-score   support\n",
            "\n",
            "           0       0.57      0.62      0.59        90\n",
            "           1       0.20      0.01      0.03        71\n",
            "           2       0.57      0.72      0.63       178\n",
            "           3       0.58      0.89      0.70       200\n",
            "           4       0.75      0.88      0.81       232\n",
            "           5       0.62      0.81      0.70       135\n",
            "           6       0.46      0.76      0.57       164\n",
            "           7       0.62      0.09      0.16        86\n",
            "           8       0.57      0.07      0.13        55\n",
            "           9       0.31      0.23      0.27        60\n",
            "          10       0.58      0.17      0.27       143\n",
            "          11       0.35      0.14      0.20        64\n",
            "          12       0.44      0.63      0.51       102\n",
            "          13       0.30      0.05      0.08        64\n",
            "          14       0.75      0.04      0.07        81\n",
            "          15       0.70      0.95      0.81       207\n",
            "\n",
            "    accuracy                           0.58      1932\n",
            "   macro avg       0.52      0.44      0.41      1932\n",
            "weighted avg       0.57      0.58      0.52      1932\n",
            "\n"
          ]
        }
      ]
    },
    {
      "cell_type": "markdown",
      "metadata": {
        "id": "Zo2333OKzDL8"
      },
      "source": [
        "## ¿Deberíamos reducir la dimensionalidad?\n"
      ]
    },
    {
      "cell_type": "markdown",
      "source": [
        "En la etapa de definir el clasificador y evaluar algunos desempeños no se hizo una exploracion en la reduccion de la dimensionalidad pero estuvo presente, es por esto que probamos el rendimiento para determinar si es necesario reducir la dimensionalidad y si en realidad si mejora el rendimiento."
      ],
      "metadata": {
        "id": "a4kGIdTbU9Bw"
      }
    },
    {
      "cell_type": "code",
      "source": [
        "class Evaluator:\n",
        "    matplotlib = __import__(\"matplotlib\")\n",
        "    plt = matplotlib.pyplot\n",
        "\n",
        "    def __init__(self, components):\n",
        "        self.components = components\n",
        "        self.accuracy = []\n",
        "        self.f1 = []\n",
        "\n",
        "    def test_accuracy(self, clf, X_train, X_test, y_train, y_test):\n",
        "        for component in self.components:\n",
        "            process = {\"steps\": (\"personalized\", \"stop\", \"stemme\"),\n",
        "                      \"vectorizer\": \"CountVectorizer\",\n",
        "                       \"dimred\": \"TruncatedSVD\",\n",
        "                       \"clf\":{\"model\": \"svm\",\n",
        "                              \"clf\": \"LinearSVC\"}}\n",
        "\n",
        "            params = {\"dimred\": component,\n",
        "                      \"clf\": {\"penalty\": \"l2\",\n",
        "                              \"C\": 0.1}}\n",
        "\n",
        "            clf = Classifier(TextProcessor, process, params)\n",
        "            clf.fit(X_train, y_train)\n",
        "            accuracy = clf.accuracy_score(X_test, y_test)\n",
        "            self.accuracy.append(accuracy)\n",
        "\n",
        "    def test_f1(self, clf, X_train, X_test, y_train, y_test):\n",
        "        for component in self.components:\n",
        "            process = {\"steps\": (\"personalized\", \"stop\", \"stemme\"),\n",
        "                      \"vectorizer\": \"CountVectorizer\",\n",
        "                       \"dimred\": \"TruncatedSVD\",\n",
        "                       \"clf\":{\"model\": \"svm\",\n",
        "                              \"clf\": \"LinearSVC\"}}\n",
        "\n",
        "            params = {\"dimred\": component,\n",
        "                      \"clf\": {\"penalty\": \"l2\",\n",
        "                              \"C\": 0.1}}\n",
        "\n",
        "            clf = Classifier(TextProcessor, process, params)\n",
        "            clf.fit(X_train, y_train)\n",
        "            f1 = clf.f1_score(X_test, y_test)\n",
        "            self.f1.append(f1)\n",
        "\n",
        "    def accuracy_plot(self):\n",
        "        plt = self.matplotlib.pyplot\n",
        "        plt.subplot(1, 2, 1)\n",
        "        plt.plot(self.components, self.accuracy, marker='o', label='Con Reducción')\n",
        "        plt.title('Accuracy vs Número de Componentes')\n",
        "        plt.xlabel('Número de Componentes')\n",
        "        plt.ylabel('Accuracy')\n",
        "        plt.legend()\n",
        "\n",
        "        plt.subplot(1, 2, 2)\n",
        "        plt.plot(self.components, self.f1, marker='o', label='Con Reducción')\n",
        "        plt.title('F1-Score vs Número de Componentes')\n",
        "        plt.xlabel('Número de Componentes')\n",
        "        plt.ylabel('F1-Score')\n",
        "        plt.legend()\n",
        "\n",
        "        plt.tight_layout()\n",
        "        plt.show()"
      ],
      "metadata": {
        "id": "3qiXV3S0JV3G"
      },
      "execution_count": null,
      "outputs": []
    },
    {
      "cell_type": "code",
      "source": [
        "components = [50, 100, 200, 300, 400, 500]\n",
        "eval = Evaluator(components)\n",
        "eval.test_accuracy(Classifier, X_train, X_test, y_train, y_test)\n",
        "eval.test_f1(Classifier, X_train, X_test, y_train, y_test)\n",
        "eval.accuracy_plot()"
      ],
      "metadata": {
        "colab": {
          "base_uri": "https://localhost:8080/",
          "height": 487
        },
        "id": "JE7bhM3gYZuS",
        "outputId": "c72d7170-f7f5-47e0-ff9c-9fa1ae08af84"
      },
      "execution_count": null,
      "outputs": [
        {
          "output_type": "display_data",
          "data": {
            "text/plain": [
              "<Figure size 640x480 with 2 Axes>"
            ],
            "image/png": "[encoded data removed]"
          },
          "metadata": {}
        }
      ]
    },
    {
      "cell_type": "markdown",
      "metadata": {
        "id": "4ddKHijDzDL8"
      },
      "source": [
        "## Conclusiones\n",
        "\n",
        "Al reducir la dimensionalidad parece que perdermos información crucial que ayuda al modelo a distinguir entre las clases y esto perjudica el rendimiento del modelo, además, originalmente la dimensionalidad es baja por loq ue aprece no haber información irrelevante.\n",
        "\n",
        "\n",
        "También podemos concluir que al usar otra técnica de vectorización como Word2Vec, el rendimiento disminuye y esto puede ser el resultado de:\n",
        "\n",
        "- Promedio de vectores: Al promediar los vectores de palabras para obtener esa representación se está perdiendo el orden y eso implica perdida de información.\n",
        "- Word2Vec sirve para capturar relaciones semánticas generales y en este contexto es necesaria la información expecífica.\n",
        "- Los datos no son suficientes para crear vectores con Word2Vec representativos."
      ]
    },
    {
      "cell_type": "code",
      "source": [
        "%%shell\n",
        "jupyter nbconvert --to html /content/Microproyecto2_Grupo31.ipynb"
      ],
      "metadata": {
        "colab": {
          "base_uri": "https://localhost:8080/"
        },
        "id": "lX76e6zX5LHj",
        "outputId": "82add1ab-cc5f-4909-cb32-138789a9b51b"
      },
      "execution_count": null,
      "outputs": [
        {
          "output_type": "stream",
          "name": "stdout",
          "text": [
            "[NbConvertApp] Converting notebook /content/Microproyecto2_Grupo31.ipynb to html\n",
            "[NbConvertApp] Writing 708479 bytes to /content/Microproyecto2_Grupo31.html\n"
          ]
        },
        {
          "output_type": "execute_result",
          "data": {
            "text/plain": []
          },
          "metadata": {},
          "execution_count": 1
        }
      ]
    },
    {
      "cell_type": "code",
      "source": [],
      "metadata": {
        "id": "xy0Z_KVg5U0j"
      },
      "execution_count": null,
      "outputs": []
    }
  ],
  "metadata": {
    "colab": {
      "provenance": []
    },
    "kernelspec": {
      "display_name": "Python 3",
      "name": "python3"
    },
    "language_info": {
      "codemirror_mode": {
        "name": "ipython",
        "version": 3
      },
      "file_extension": ".py",
      "mimetype": "text/x-python",
      "name": "python",
      "nbconvert_exporter": "python",
      "pygments_lexer": "ipython3",
      "version": "3.11.5"
    }
  },
  "nbformat": 4,
  "nbformat_minor": 0
}